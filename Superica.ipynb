{
 "cells": [
  {
   "cell_type": "code",
   "execution_count": 3,
   "metadata": {},
   "outputs": [],
   "source": [
    "import numpy as np\n",
    "import re"
   ]
  },
  {
   "cell_type": "code",
   "execution_count": 1,
   "metadata": {},
   "outputs": [],
   "source": [
    "exp1 = \"x = 2\"\n",
    "exp2 = \"$cos(x)$\""
   ]
  },
  {
   "cell_type": "code",
   "execution_count": 4,
   "metadata": {},
   "outputs": [],
   "source": [
    "func = dict(cos = np.cos)"
   ]
  },
  {
   "cell_type": "code",
   "execution_count": 5,
   "metadata": {},
   "outputs": [
    {
     "data": {
      "text/plain": [
       "-1.0"
      ]
     },
     "execution_count": 5,
     "metadata": {},
     "output_type": "execute_result"
    }
   ],
   "source": [
    "func['cos'](np.pi)"
   ]
  },
  {
   "cell_type": "code",
   "execution_count": 12,
   "metadata": {},
   "outputs": [],
   "source": [
    "class express:\n",
    "    \n",
    "    def __init__(self,strinput : str):\n",
    "        self.expression : str = strinput\n",
    "        self.vars,self.funcs = self._decompose()\n",
    "        \n",
    "        \n",
    "    def _decompose(self):\n",
    "        return 0,0"
   ]
  },
  {
   "cell_type": "code",
   "execution_count": 13,
   "metadata": {},
   "outputs": [
    {
     "data": {
      "text/plain": [
       "<__main__.express at 0x2168e554148>"
      ]
     },
     "execution_count": 13,
     "metadata": {},
     "output_type": "execute_result"
    }
   ],
   "source": [
    "express(exp1)"
   ]
  },
  {
   "cell_type": "code",
   "execution_count": 21,
   "metadata": {},
   "outputs": [],
   "source": [
    "spec = re.compile(\"\\((.+)\\)\")\n",
    "encase = re.compile(\"\\$.+\\$\")"
   ]
  },
  {
   "cell_type": "code",
   "execution_count": 22,
   "metadata": {},
   "outputs": [
    {
     "name": "stdout",
     "output_type": "stream",
     "text": [
      "<re.Match object; span=(4, 7), match='(x)'>\n",
      "<re.Match object; span=(0, 8), match='$cos(x)$'>\n"
     ]
    }
   ],
   "source": [
    "print(spec.search(exp2))\n",
    "print(encase.search(exp2))"
   ]
  },
  {
   "cell_type": "code",
   "execution_count": 47,
   "metadata": {},
   "outputs": [
    {
     "name": "stdout",
     "output_type": "stream",
     "text": [
      "index.html <-> home\n",
      "base.html <-> base\n"
     ]
    }
   ],
   "source": [
    "w = \"TEMPLATES = ( ('index.html', 'home'), ('base.html', 'base'))\"\n",
    "\n",
    "# find outer parens\n",
    "outer = re.compile(\"\\((.+)\\)\")\n",
    "m = outer.search(w)\n",
    "inner_str = m.group(1)\n",
    "\n",
    "# find inner pairs\n",
    "innerre = re.compile(\"\\('([^']+)', '([^']+)'\\)\")\n",
    "\n",
    "results = innerre.findall(inner_str)\n",
    "for x,y in results:\n",
    "    print(\"%s <-> %s\" % (x,y))"
   ]
  },
  {
   "cell_type": "code",
   "execution_count": 26,
   "metadata": {},
   "outputs": [
    {
     "data": {
      "text/plain": [
       "'cos(x)'"
      ]
     },
     "execution_count": 26,
     "metadata": {},
     "output_type": "execute_result"
    }
   ],
   "source": [
    "encase.search(exp2).group(0).lstrip('$').rstrip('$')"
   ]
  },
  {
   "cell_type": "code",
   "execution_count": null,
   "metadata": {},
   "outputs": [],
   "source": []
  }
 ],
 "metadata": {
  "kernelspec": {
   "display_name": "Python 3",
   "language": "python",
   "name": "python3"
  },
  "language_info": {
   "codemirror_mode": {
    "name": "ipython",
    "version": 3
   },
   "file_extension": ".py",
   "mimetype": "text/x-python",
   "name": "python",
   "nbconvert_exporter": "python",
   "pygments_lexer": "ipython3",
   "version": "3.7.9"
  }
 },
 "nbformat": 4,
 "nbformat_minor": 4
}

{
 "cells": [
  {
   "cell_type": "code",
   "execution_count": 71,
   "metadata": {},
   "outputs": [],
   "source": [
    "import numpy as np\n",
    "import matplotlib.pyplot as plt\n",
    "import matplotlib as mpl\n",
    "\n",
    "mpl.rcParams['axes.labelsize'] = 20\n",
    "mpl.rcParams['axes.titlesize'] = 30\n",
    "mpl.rcParams['text.usetex'] = True\n",
    "mpl.rcParams['text.latex.preamble'] = r\"\\usepackage{amsmath}\"\n",
    "mpl.rcParams['xtick.labelsize'] = 20\n",
    "mpl.rcParams['ytick.labelsize'] = 20"
   ]
  },
  {
   "cell_type": "code",
   "execution_count": 6,
   "metadata": {},
   "outputs": [],
   "source": [
    "def fac(x):\n",
    "    if (x == 0):\n",
    "        return 1\n",
    "    return x*fac(x-1)\n",
    "\n",
    "def choose(n,x):\n",
    "    \"\"\"\n",
    "    Returns the number of combinations available to a set of x things chosen from a superset\n",
    "    of n things\n",
    "    \"\"\"\n",
    "    return fac(n)/(fac(x)*fac(n-x))\n",
    "\n",
    "def permute(n,x):\n",
    "    \n",
    "    return fac(n)/fac(n-x)\n",
    "\n",
    "def bi(x,n,p,q):\n",
    "    \"\"\"\n",
    "    Calculates the binomial probability P(x) given number of trials n, \n",
    "    probability of success p, and of failure q\n",
    "    \"\"\"\n",
    "    return choose(n,x)*(p**x)*(q**(n-x))\n",
    "\n",
    "\n",
    "def bycase(funcs: list[function], cases: list[function]):\n",
    "    "
   ]
  },
  {
   "cell_type": "code",
   "execution_count": 15,
   "metadata": {},
   "outputs": [
    {
     "data": {
      "text/plain": [
       "0.9350945284811255"
      ]
     },
     "execution_count": 15,
     "metadata": {},
     "output_type": "execute_result"
    }
   ],
   "source": [
    "1-bi(0,15,1/6,5/6)"
   ]
  },
  {
   "cell_type": "code",
   "execution_count": 16,
   "metadata": {},
   "outputs": [
    {
     "ename": "SyntaxError",
     "evalue": "invalid syntax (<ipython-input-16-cd8cbd34a075>, line 1)",
     "output_type": "error",
     "traceback": [
      "\u001b[1;36m  File \u001b[1;32m\"<ipython-input-16-cd8cbd34a075>\"\u001b[1;36m, line \u001b[1;32m1\u001b[0m\n\u001b[1;33m    f = lambda x: np.ndarray,k,θ: ((k*θ**k)/x**(k+1)) if x>=θ else 0\u001b[0m\n\u001b[1;37m                                ^\u001b[0m\n\u001b[1;31mSyntaxError\u001b[0m\u001b[1;31m:\u001b[0m invalid syntax\n"
     ]
    }
   ],
   "source": [
    "f = lambda x,k,θ: ((k*θ**k)/x**(k+1)) if x>=θ else 0"
   ]
  },
  {
   "cell_type": "code",
   "execution_count": 115,
   "metadata": {},
   "outputs": [
    {
     "data": {
      "image/png": "[encoded data removed]",
      "text/plain": [
       "<Figure size 720x720 with 1 Axes>"
      ]
     },
     "metadata": {
      "needs_background": "light"
     },
     "output_type": "display_data"
    }
   ],
   "source": [
    "dom = 100\n",
    "x = range(dom)\n",
    "y = [f(x,20,20) for x in x]\n",
    "\n",
    "fig,ax = plt.subplots(1,1, figsize = (10,10))\n",
    "\n",
    "ax.plot([20,20], [-.1,max(y)], '--k')\n",
    "ax.plot([0,20], [max(y),max(y)], '--k')\n",
    "ax.plot(range(100),y, linewidth = 3, alpha = 0.5)\n",
    "ax.annotate(r\"$f(x=\\theta; k, \\theta) = \\frac{k}{\\theta}$\", \n",
    "            xy = (20,max(y)),textcoords = 'offset points',  xytext = (60,60),  \n",
    "            arrowprops = dict(facecolor = 'black', shrink=0.1) ,fontsize = 30)\n",
    "\n",
    "\n",
    "\n",
    "ax.axes.get_xaxis().set_ticks(list(range(0,dom+20,20)))\n",
    "ax.axes.get_yaxis().set_ticks([0,max(y)])\n",
    "ax.axes.get_xaxis().set_ticklabels([\"0\",r\"$\\theta$\",r\"$2\\theta$\",r\"$3\\theta$\",r\"$4\\theta$\",r\"$5\\theta$\"])\n",
    "ax.axes.get_yaxis().set_ticklabels([\"0\",r\"max(f)\"])\n",
    "ax.set_xlabel(r\"$x$\")\n",
    "ax.set_ylabel(r\"$f$\", rotation = 0)\n",
    "ax.set_title(r'$\\displaystyle f(x;k, \\theta) =' r'\\begin{cases}\\frac{k\\cdot \\theta^k}{x^{k+1}} & x\\ge \\theta\\\\ 0 & x<\\theta \\end{cases}$')\n",
    "plt.xlim([0,100])\n",
    "plt.ylim([-.1,max(y)+.5])\n",
    "plt.show()"
   ]
  },
  {
   "cell_type": "code",
   "execution_count": 8,
   "metadata": {},
   "outputs": [],
   "source": [
    "a = lambda x,y :1\n",
    "b = lambda x :2"
   ]
  },
  {
   "cell_type": "code",
   "execution_count": 9,
   "metadata": {},
   "outputs": [
    {
     "data": {
      "text/plain": [
       "[<function __main__.<lambda>(x, y)>, <function __main__.<lambda>(x)>]"
      ]
     },
     "execution_count": 9,
     "metadata": {},
     "output_type": "execute_result"
    }
   ],
   "source": [
    "[a,b]"
   ]
  },
  {
   "cell_type": "code",
   "execution_count": 15,
   "metadata": {},
   "outputs": [
    {
     "data": {
      "text/plain": [
       "numpy.ndarray"
      ]
     },
     "execution_count": 15,
     "metadata": {},
     "output_type": "execute_result"
    }
   ],
   "source": [
    "type(np.linspace(0,10))"
   ]
  },
  {
   "cell_type": "code",
   "execution_count": 77,
   "metadata": {},
   "outputs": [
    {
     "data": {
      "text/plain": [
       "[0, 10, 20, 30, 40, 50, 60, 70, 80, 90]"
      ]
     },
     "execution_count": 77,
     "metadata": {},
     "output_type": "execute_result"
    }
   ],
   "source": [
    "list(range(0,100,10))"
   ]
  },
  {
   "cell_type": "code",
   "execution_count": 102,
   "metadata": {},
   "outputs": [
    {
     "data": {
      "text/plain": [
       "1.0"
      ]
     },
     "execution_count": 102,
     "metadata": {},
     "output_type": "execute_result"
    }
   ],
   "source": [
    "max(y)"
   ]
  },
  {
   "cell_type": "code",
   "execution_count": null,
   "metadata": {},
   "outputs": [],
   "source": []
  }
 ],
 "metadata": {
  "kernelspec": {
   "display_name": "Python 3",
   "language": "python",
   "name": "python3"
  },
  "language_info": {
   "codemirror_mode": {
    "name": "ipython",
    "version": 3
   },
   "file_extension": ".py",
   "mimetype": "text/x-python",
   "name": "python",
   "nbconvert_exporter": "python",
   "pygments_lexer": "ipython3",
   "version": "3.7.9"
  }
 },
 "nbformat": 4,
 "nbformat_minor": 4
}

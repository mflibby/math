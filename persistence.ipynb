{
 "cells": [
  {
   "cell_type": "code",
   "execution_count": 358,
   "metadata": {},
   "outputs": [],
   "source": [
    "import matplotlib.pyplot as plt\n",
    "import pandas as pd\n",
    "import numpy as np\n",
    "import time\n",
    "from platform import python_version"
   ]
  },
  {
   "cell_type": "code",
   "execution_count": 2,
   "metadata": {},
   "outputs": [],
   "source": [
    "a = 27\n",
    "temp = []"
   ]
  },
  {
   "cell_type": "code",
   "execution_count": 3,
   "metadata": {},
   "outputs": [],
   "source": [
    "def persistence(number, step=1):\n",
    "    temp = []\n",
    "    for i in str(number):\n",
    "        temp.append(int(i))\n",
    "    number = prod(temp)\n",
    "    #print(number)\n",
    "    step+=1\n",
    "    if (len(str(number)))>1:\n",
    "        return persistence(number,step)\n",
    "    return step-1\n",
    "def prod(lis):\n",
    "    a = lis[0]\n",
    "    for i in lis[1:]:\n",
    "        a *= i\n",
    "    return a"
   ]
  },
  {
   "cell_type": "code",
   "execution_count": 4,
   "metadata": {},
   "outputs": [
    {
     "data": {
      "text/plain": [
       "[]"
      ]
     },
     "execution_count": 4,
     "metadata": {},
     "output_type": "execute_result"
    }
   ],
   "source": [
    "temp"
   ]
  },
  {
   "cell_type": "code",
   "execution_count": 5,
   "metadata": {},
   "outputs": [
    {
     "data": {
      "text/plain": [
       "6"
      ]
     },
     "execution_count": 5,
     "metadata": {},
     "output_type": "execute_result"
    }
   ],
   "source": [
    "prod([3,2])"
   ]
  },
  {
   "cell_type": "code",
   "execution_count": 54,
   "metadata": {},
   "outputs": [
    {
     "ename": "MemoryError",
     "evalue": "",
     "output_type": "error",
     "traceback": [
      "\u001b[1;31m---------------------------------------------------------------------------\u001b[0m",
      "\u001b[1;31mMemoryError\u001b[0m                               Traceback (most recent call last)",
      "\u001b[1;32m<ipython-input-54-9634e4cff325>\u001b[0m in \u001b[0;36m<module>\u001b[1;34m\u001b[0m\n\u001b[0;32m      4\u001b[0m \u001b[1;32mfor\u001b[0m \u001b[0mi\u001b[0m \u001b[1;32min\u001b[0m \u001b[0mrange\u001b[0m\u001b[1;33m(\u001b[0m\u001b[1;36m0\u001b[0m\u001b[1;33m,\u001b[0m\u001b[1;36m10\u001b[0m\u001b[1;33m**\u001b[0m\u001b[1;36m9\u001b[0m\u001b[1;33m)\u001b[0m\u001b[1;33m:\u001b[0m\u001b[1;33m\u001b[0m\u001b[1;33m\u001b[0m\u001b[0m\n\u001b[0;32m      5\u001b[0m     \u001b[0mtemp\u001b[0m \u001b[1;33m=\u001b[0m \u001b[0mpersistence\u001b[0m\u001b[1;33m(\u001b[0m\u001b[0mi\u001b[0m\u001b[1;33m)\u001b[0m\u001b[1;33m\u001b[0m\u001b[1;33m\u001b[0m\u001b[0m\n\u001b[1;32m----> 6\u001b[1;33m     \u001b[0mplist\u001b[0m\u001b[1;33m[\u001b[0m\u001b[0mtemp\u001b[0m\u001b[1;33m]\u001b[0m\u001b[1;33m[\u001b[0m\u001b[1;36m0\u001b[0m\u001b[1;33m]\u001b[0m\u001b[1;33m.\u001b[0m\u001b[0mappend\u001b[0m\u001b[1;33m(\u001b[0m\u001b[0mtemp\u001b[0m\u001b[1;33m)\u001b[0m\u001b[1;33m\u001b[0m\u001b[1;33m\u001b[0m\u001b[0m\n\u001b[0m\u001b[0;32m      7\u001b[0m     \u001b[0mplist\u001b[0m\u001b[1;33m[\u001b[0m\u001b[0mtemp\u001b[0m\u001b[1;33m]\u001b[0m\u001b[1;33m[\u001b[0m\u001b[1;36m1\u001b[0m\u001b[1;33m]\u001b[0m\u001b[1;33m.\u001b[0m\u001b[0mappend\u001b[0m\u001b[1;33m(\u001b[0m\u001b[0mi\u001b[0m\u001b[1;33m)\u001b[0m\u001b[1;33m\u001b[0m\u001b[1;33m\u001b[0m\u001b[0m\n\u001b[0;32m      8\u001b[0m \u001b[0mend\u001b[0m \u001b[1;33m=\u001b[0m \u001b[0mtime\u001b[0m\u001b[1;33m.\u001b[0m\u001b[0mtime\u001b[0m\u001b[1;33m(\u001b[0m\u001b[1;33m)\u001b[0m\u001b[1;33m\u001b[0m\u001b[1;33m\u001b[0m\u001b[0m\n",
      "\u001b[1;31mMemoryError\u001b[0m: "
     ]
    }
   ],
   "source": [
    "start = time.time()\n",
    "m = 0\n",
    "plist = [[[],[]],[[],[]],[[],[]],[[],[]],[[],[]],[[],[]],[[],[]],[[],[]],[[],[]],[[],[]],[[],[]],[[],[]]]\n",
    "for i in range(0,10**9):\n",
    "    temp = persistence(i)\n",
    "    plist[temp][0].append(temp)\n",
    "    plist[temp][1].append(i)\n",
    "end = time.time()"
   ]
  },
  {
   "cell_type": "code",
   "execution_count": 6,
   "metadata": {},
   "outputs": [],
   "source": [
    "oeis_current = [[0,0], [1,10], [2,25], [3,39], [4,77], [5,679], [6,6788], [7,68889], [8,2677889], [9,26888999], [10,3778888999], [11,277777788888899]]"
   ]
  },
  {
   "cell_type": "code",
   "execution_count": 60,
   "metadata": {},
   "outputs": [],
   "source": [
    "oc = p.DataFrame(oeis_current)\n",
    "pdf = p.DataFrame(plist)"
   ]
  },
  {
   "cell_type": "code",
   "execution_count": 7,
   "metadata": {},
   "outputs": [
    {
     "ename": "NameError",
     "evalue": "name 'pdf' is not defined",
     "output_type": "error",
     "traceback": [
      "\u001b[1;31m---------------------------------------------------------------------------\u001b[0m",
      "\u001b[1;31mNameError\u001b[0m                                 Traceback (most recent call last)",
      "\u001b[1;32m<ipython-input-7-044d52b80dc3>\u001b[0m in \u001b[0;36m<module>\u001b[1;34m\u001b[0m\n\u001b[1;32m----> 1\u001b[1;33m \u001b[0mpdf\u001b[0m\u001b[1;33m\u001b[0m\u001b[1;33m\u001b[0m\u001b[0m\n\u001b[0m",
      "\u001b[1;31mNameError\u001b[0m: name 'pdf' is not defined"
     ]
    }
   ],
   "source": [
    "pdf"
   ]
  },
  {
   "cell_type": "code",
   "execution_count": null,
   "metadata": {},
   "outputs": [],
   "source": [
    "fig,ax = plt.subplots(1,1,figsize=(14,14))\n",
    "for i in range(0,10):\n",
    "    ax.scatter(pdf[0][i],pdf[1][i],s=.1)\n",
    "ax.grid()\n",
    "plt.show()"
   ]
  },
  {
   "cell_type": "code",
   "execution_count": 66,
   "metadata": {},
   "outputs": [],
   "source": [
    "z = np.polyfit(oc[0][1:],np.log(oc[1][1:]),7)"
   ]
  },
  {
   "cell_type": "code",
   "execution_count": 67,
   "metadata": {},
   "outputs": [
    {
     "data": {
      "text/plain": [
       "array([ 8.73966076e-05, -3.28607142e-03,  5.27447543e-02, -4.70986611e-01,\n",
       "        2.49788298e+00, -7.36653437e+00,  1.11829745e+01, -3.59260347e+00])"
      ]
     },
     "execution_count": 67,
     "metadata": {},
     "output_type": "execute_result"
    }
   ],
   "source": [
    "z"
   ]
  },
  {
   "cell_type": "code",
   "execution_count": 68,
   "metadata": {},
   "outputs": [],
   "source": [
    "yfunc = lambda x : z[0]*x**7+z[1]*x**6 + z[2]*x**5 + z[3]*x**4+z[4]*x**3+z[5]*x**2+z[6]*x+z[7]"
   ]
  },
  {
   "cell_type": "code",
   "execution_count": 82,
   "metadata": {},
   "outputs": [
    {
     "data": {
      "text/plain": [
       "63.79005932281376"
      ]
     },
     "execution_count": 82,
     "metadata": {},
     "output_type": "execute_result"
    }
   ],
   "source": [
    "yfunc(12)"
   ]
  },
  {
   "cell_type": "code",
   "execution_count": 86,
   "metadata": {},
   "outputs": [
    {
     "ename": "NameError",
     "evalue": "name 'long' is not defined",
     "output_type": "error",
     "traceback": [
      "\u001b[1;31m---------------------------------------------------------------------------\u001b[0m",
      "\u001b[1;31mNameError\u001b[0m                                 Traceback (most recent call last)",
      "\u001b[1;32m<ipython-input-86-84c0bd824201>\u001b[0m in \u001b[0;36m<module>\u001b[1;34m\u001b[0m\n\u001b[1;32m----> 1\u001b[1;33m \u001b[0mlong\u001b[0m\u001b[1;33m(\u001b[0m\u001b[0mnp\u001b[0m\u001b[1;33m.\u001b[0m\u001b[0me\u001b[0m\u001b[1;33m**\u001b[0m\u001b[0myfunc\u001b[0m\u001b[1;33m(\u001b[0m\u001b[1;36m12\u001b[0m\u001b[1;33m)\u001b[0m\u001b[1;33m)\u001b[0m\u001b[1;33m\u001b[0m\u001b[1;33m\u001b[0m\u001b[0m\n\u001b[0m",
      "\u001b[1;31mNameError\u001b[0m: name 'long' is not defined"
     ]
    }
   ],
   "source": []
  },
  {
   "cell_type": "code",
   "execution_count": 51,
   "metadata": {},
   "outputs": [
    {
     "ename": "KeyboardInterrupt",
     "evalue": "",
     "output_type": "error",
     "traceback": [
      "\u001b[1;31m---------------------------------------------------------------------------\u001b[0m",
      "\u001b[1;31mKeyboardInterrupt\u001b[0m                         Traceback (most recent call last)",
      "\u001b[1;32m<ipython-input-51-6a2651d730d6>\u001b[0m in \u001b[0;36m<module>\u001b[1;34m\u001b[0m\n\u001b[1;32m----> 1\u001b[1;33m \u001b[1;32mfor\u001b[0m \u001b[0mi\u001b[0m \u001b[1;32min\u001b[0m \u001b[0mrange\u001b[0m\u001b[1;33m(\u001b[0m\u001b[1;36m2\u001b[0m\u001b[1;33m**\u001b[0m\u001b[1;36m40\u001b[0m\u001b[1;33m,\u001b[0m\u001b[1;36m2\u001b[0m\u001b[1;33m**\u001b[0m\u001b[1;36m41\u001b[0m\u001b[1;33m)\u001b[0m\u001b[1;33m:\u001b[0m\u001b[1;33m\u001b[0m\u001b[1;33m\u001b[0m\u001b[0m\n\u001b[0m\u001b[0;32m      2\u001b[0m     \u001b[0mtemp\u001b[0m \u001b[1;33m=\u001b[0m \u001b[0mpersistence\u001b[0m\u001b[1;33m(\u001b[0m\u001b[0mi\u001b[0m\u001b[1;33m)\u001b[0m\u001b[1;33m\u001b[0m\u001b[1;33m\u001b[0m\u001b[0m\n\u001b[0;32m      3\u001b[0m     \u001b[1;32mif\u001b[0m \u001b[1;33m(\u001b[0m\u001b[0mtemp\u001b[0m\u001b[1;33m>\u001b[0m\u001b[1;36m11\u001b[0m\u001b[1;33m)\u001b[0m\u001b[1;33m:\u001b[0m\u001b[1;33m\u001b[0m\u001b[1;33m\u001b[0m\u001b[0m\n\u001b[0;32m      4\u001b[0m         \u001b[0mprint\u001b[0m\u001b[1;33m(\u001b[0m\u001b[0mi\u001b[0m\u001b[1;33m)\u001b[0m\u001b[1;33m\u001b[0m\u001b[1;33m\u001b[0m\u001b[0m\n",
      "\u001b[1;31mKeyboardInterrupt\u001b[0m: "
     ]
    }
   ],
   "source": [
    "for i in range(2**40,2**41):\n",
    "    temp = persistence(i)\n",
    "    if (temp>11):\n",
    "        print(i)"
   ]
  },
  {
   "cell_type": "code",
   "execution_count": 8,
   "metadata": {},
   "outputs": [
    {
     "data": {
      "text/plain": [
       "2.302585092994046"
      ]
     },
     "execution_count": 8,
     "metadata": {},
     "output_type": "execute_result"
    }
   ],
   "source": [
    "np.log(10)"
   ]
  },
  {
   "cell_type": "code",
   "execution_count": 41,
   "metadata": {},
   "outputs": [],
   "source": [
    "def decomp(number, primes):\n",
    "    a = number\n",
    "    const = []\n",
    "    prime_iter = iter(primes)\n",
    "    nextp = next(prime_iter, 0)\n",
    "    while(nextp!=0):\n",
    "        while(a/nextp==int(a/nextp)):\n",
    "            const.append(nextp)\n",
    "            a /= nextp\n",
    "        nextp = next(prime_iter, 0)\n",
    "    if (a == 1 and a != number):\n",
    "        return True,const\n",
    "    return False"
   ]
  },
  {
   "cell_type": "code",
   "execution_count": 42,
   "metadata": {},
   "outputs": [
    {
     "data": {
      "text/plain": [
       "False"
      ]
     },
     "execution_count": 42,
     "metadata": {},
     "output_type": "execute_result"
    }
   ],
   "source": [
    "decomp(1,primes)"
   ]
  },
  {
   "cell_type": "code",
   "execution_count": 43,
   "metadata": {},
   "outputs": [
    {
     "data": {
      "text/plain": [
       "(True, [2, 2, 2, 2, 2])"
      ]
     },
     "execution_count": 43,
     "metadata": {},
     "output_type": "execute_result"
    }
   ],
   "source": [
    "primes = [2,3,7]\n",
    "decomp(32,primes)"
   ]
  },
  {
   "cell_type": "code",
   "execution_count": 44,
   "metadata": {},
   "outputs": [],
   "source": [
    "decomps = []\n",
    "start,end = (1,10**3)\n",
    "for i in range(start,end):\n",
    "    temp = decomp(i,primes)\n",
    "    if (temp):\n",
    "        decomps.append([i, temp])"
   ]
  },
  {
   "cell_type": "code",
   "execution_count": 45,
   "metadata": {},
   "outputs": [
    {
     "data": {
      "text/plain": [
       "[[2, (True, [2])],\n",
       " [3, (True, [3])],\n",
       " [4, (True, [2, 2])],\n",
       " [6, (True, [2, 3])],\n",
       " [7, (True, [7])],\n",
       " [8, (True, [2, 2, 2])],\n",
       " [9, (True, [3, 3])],\n",
       " [12, (True, [2, 2, 3])],\n",
       " [14, (True, [2, 7])],\n",
       " [16, (True, [2, 2, 2, 2])],\n",
       " [18, (True, [2, 3, 3])],\n",
       " [21, (True, [3, 7])],\n",
       " [24, (True, [2, 2, 2, 3])],\n",
       " [27, (True, [3, 3, 3])],\n",
       " [28, (True, [2, 2, 7])],\n",
       " [32, (True, [2, 2, 2, 2, 2])],\n",
       " [36, (True, [2, 2, 3, 3])],\n",
       " [42, (True, [2, 3, 7])],\n",
       " [48, (True, [2, 2, 2, 2, 3])],\n",
       " [49, (True, [7, 7])],\n",
       " [54, (True, [2, 3, 3, 3])],\n",
       " [56, (True, [2, 2, 2, 7])],\n",
       " [63, (True, [3, 3, 7])],\n",
       " [64, (True, [2, 2, 2, 2, 2, 2])],\n",
       " [72, (True, [2, 2, 2, 3, 3])],\n",
       " [81, (True, [3, 3, 3, 3])],\n",
       " [84, (True, [2, 2, 3, 7])],\n",
       " [96, (True, [2, 2, 2, 2, 2, 3])],\n",
       " [98, (True, [2, 7, 7])],\n",
       " [108, (True, [2, 2, 3, 3, 3])],\n",
       " [112, (True, [2, 2, 2, 2, 7])],\n",
       " [126, (True, [2, 3, 3, 7])],\n",
       " [128, (True, [2, 2, 2, 2, 2, 2, 2])],\n",
       " [144, (True, [2, 2, 2, 2, 3, 3])],\n",
       " [147, (True, [3, 7, 7])],\n",
       " [162, (True, [2, 3, 3, 3, 3])],\n",
       " [168, (True, [2, 2, 2, 3, 7])],\n",
       " [189, (True, [3, 3, 3, 7])],\n",
       " [192, (True, [2, 2, 2, 2, 2, 2, 3])],\n",
       " [196, (True, [2, 2, 7, 7])],\n",
       " [216, (True, [2, 2, 2, 3, 3, 3])],\n",
       " [224, (True, [2, 2, 2, 2, 2, 7])],\n",
       " [243, (True, [3, 3, 3, 3, 3])],\n",
       " [252, (True, [2, 2, 3, 3, 7])],\n",
       " [256, (True, [2, 2, 2, 2, 2, 2, 2, 2])],\n",
       " [288, (True, [2, 2, 2, 2, 2, 3, 3])],\n",
       " [294, (True, [2, 3, 7, 7])],\n",
       " [324, (True, [2, 2, 3, 3, 3, 3])],\n",
       " [336, (True, [2, 2, 2, 2, 3, 7])],\n",
       " [343, (True, [7, 7, 7])],\n",
       " [378, (True, [2, 3, 3, 3, 7])],\n",
       " [384, (True, [2, 2, 2, 2, 2, 2, 2, 3])],\n",
       " [392, (True, [2, 2, 2, 7, 7])],\n",
       " [432, (True, [2, 2, 2, 2, 3, 3, 3])],\n",
       " [441, (True, [3, 3, 7, 7])],\n",
       " [448, (True, [2, 2, 2, 2, 2, 2, 7])],\n",
       " [486, (True, [2, 3, 3, 3, 3, 3])],\n",
       " [504, (True, [2, 2, 2, 3, 3, 7])],\n",
       " [512, (True, [2, 2, 2, 2, 2, 2, 2, 2, 2])],\n",
       " [567, (True, [3, 3, 3, 3, 7])],\n",
       " [576, (True, [2, 2, 2, 2, 2, 2, 3, 3])],\n",
       " [588, (True, [2, 2, 3, 7, 7])],\n",
       " [648, (True, [2, 2, 2, 3, 3, 3, 3])],\n",
       " [672, (True, [2, 2, 2, 2, 2, 3, 7])],\n",
       " [686, (True, [2, 7, 7, 7])],\n",
       " [729, (True, [3, 3, 3, 3, 3, 3])],\n",
       " [756, (True, [2, 2, 3, 3, 3, 7])],\n",
       " [768, (True, [2, 2, 2, 2, 2, 2, 2, 2, 3])],\n",
       " [784, (True, [2, 2, 2, 2, 7, 7])],\n",
       " [864, (True, [2, 2, 2, 2, 2, 3, 3, 3])],\n",
       " [882, (True, [2, 3, 3, 7, 7])],\n",
       " [896, (True, [2, 2, 2, 2, 2, 2, 2, 7])],\n",
       " [972, (True, [2, 2, 3, 3, 3, 3, 3])]]"
      ]
     },
     "execution_count": 45,
     "metadata": {},
     "output_type": "execute_result"
    }
   ],
   "source": [
    "decomps"
   ]
  },
  {
   "cell_type": "code",
   "execution_count": 46,
   "metadata": {},
   "outputs": [],
   "source": [
    "primes237 = p.DataFrame(decomps)"
   ]
  },
  {
   "cell_type": "code",
   "execution_count": 49,
   "metadata": {},
   "outputs": [
    {
     "data": {
      "text/plain": [
       "<AxesSubplot:>"
      ]
     },
     "execution_count": 49,
     "metadata": {},
     "output_type": "execute_result"
    },
    {
     "data": {
      "image/png": "[encoded data removed]",
      "text/plain": [
       "<Figure size 432x288 with 1 Axes>"
      ]
     },
     "metadata": {
      "needs_background": "light"
     },
     "output_type": "display_data"
    }
   ],
   "source": [
    "primes237[0].plot()"
   ]
  },
  {
   "cell_type": "code",
   "execution_count": 87,
   "metadata": {},
   "outputs": [],
   "source": [
    "x = np.linspace(0.0001,10,100)*1j+1"
   ]
  },
  {
   "cell_type": "code",
   "execution_count": 9,
   "metadata": {},
   "outputs": [],
   "source": [
    "ζ = lambda x : sum([(1/(n**(x))) for n in range(1,10**8)])\n",
    "ζlist = lambda x, n : [(1/(i**(x))) for i in n]"
   ]
  },
  {
   "cell_type": "code",
   "execution_count": 97,
   "metadata": {},
   "outputs": [],
   "source": [
    "y = [ζ(i).real for i in x]"
   ]
  },
  {
   "cell_type": "code",
   "execution_count": 98,
   "metadata": {},
   "outputs": [
    {
     "data": {
      "image/png": "[encoded data removed]",
      "text/plain": [
       "<Figure size 432x288 with 1 Axes>"
      ]
     },
     "metadata": {
      "needs_background": "light"
     },
     "output_type": "display_data"
    }
   ],
   "source": [
    "plt.plot(abs(x.imag),y)\n",
    "plt.show()"
   ]
  },
  {
   "cell_type": "code",
   "execution_count": 65,
   "metadata": {},
   "outputs": [
    {
     "data": {
      "text/plain": [
       "[(630.9935963847154+0j),\n",
       " (156.9904348041871+206.16826892613054j),\n",
       " (86.98784166498862+108.32298812064596j),\n",
       " (69.54597383528869+63.56202930746658j),\n",
       " (60.71067674397936+37.45696854716214j),\n",
       " (53.982518712287614+19.854217084228317j),\n",
       " (47.78419130823748+7.049719393534789j),\n",
       " (41.65516111613271-2.611063912149546j),\n",
       " (35.44900802989491-9.990150017097998j),\n",
       " (29.093083454839665-15.561972756396285j)]"
      ]
     },
     "execution_count": 65,
     "metadata": {},
     "output_type": "execute_result"
    }
   ],
   "source": [
    "y"
   ]
  },
  {
   "cell_type": "code",
   "execution_count": 51,
   "metadata": {},
   "outputs": [],
   "source": [
    "xi = np.linspace(1,10000,10000)\n",
    "yi = ζlist(.5+14.135j, xi)\n",
    "yreal = [i.real for i in yi]\n",
    "yimag = [i.imag for i in yi]"
   ]
  },
  {
   "cell_type": "code",
   "execution_count": 362,
   "metadata": {},
   "outputs": [],
   "source": [
    "x = np.arange(10,10**4)\n",
    "y = []\n",
    "for i in x:\n",
    "    y.append(sum(ζlist(.5+13j, range(1,i))))            "
   ]
  },
  {
   "cell_type": "code",
   "execution_count": 363,
   "metadata": {},
   "outputs": [
    {
     "data": {
      "image/png": "[encoded data removed]",
      "text/plain": [
       "<Figure size 432x288 with 1 Axes>"
      ]
     },
     "metadata": {
      "needs_background": "light"
     },
     "output_type": "display_data"
    }
   ],
   "source": [
    "#plt.scatter(xi,yreal)\n",
    "#plt.scatter(xi,yimag, color=\"RED\")\n",
    "plt.plot(x,np.sqrt(x)/14.135)\n",
    "plt.scatter(x,[i.imag for i in y],s=1)\n",
    "plt.plot(x,[i.real for i in y])\n",
    "plt.show()"
   ]
  },
  {
   "cell_type": "code",
   "execution_count": 192,
   "metadata": {},
   "outputs": [
    {
     "name": "stdout",
     "output_type": "stream",
     "text": [
      "-6.989047421090567 -1.06943384522942\n"
     ]
    }
   ],
   "source": [
    "print(sum(yreal),sum(yimag))"
   ]
  },
  {
   "cell_type": "code",
   "execution_count": 308,
   "metadata": {},
   "outputs": [],
   "source": [
    "yreal = [i.real for i in y]\n",
    "yrpos = [i if i>0 else 0 for i in yreal]"
   ]
  },
  {
   "cell_type": "code",
   "execution_count": 360,
   "metadata": {},
   "outputs": [
    {
     "data": {
      "image/png": "[encoded data removed]",
      "text/plain": [
       "<Figure size 1008x1008 with 1 Axes>"
      ]
     },
     "metadata": {
      "needs_background": "light"
     },
     "output_type": "display_data"
    }
   ],
   "source": [
    "fig, ax = plt.subplots(1,1, figsize = (14,14))\n",
    "\n",
    "ax.plot(x,yrpos)\n",
    "ax.scatter(ypcFrame[0],ypcFrame[1],s=1, color=\"RED\")\n",
    "plt.show()"
   ]
  },
  {
   "cell_type": "code",
   "execution_count": 338,
   "metadata": {},
   "outputs": [],
   "source": [
    "ϵ = 0.01\n",
    "xfit = np.sqrt(x)/14.135\n",
    "ypeak = [yrpos[i] if (around(yrpos[i],xfit[i], ϵ)) else None for i in range(len(yrpos))]"
   ]
  },
  {
   "cell_type": "code",
   "execution_count": 356,
   "metadata": {},
   "outputs": [],
   "source": [
    "ypeakcat = []\n",
    "ypdif = []\n",
    "for i in range(len(ypeak)):\n",
    "    if ypeak[i] != None:\n",
    "        ypeakcat.append((x[i],ypeak[i]))\n",
    "for i in range(len(ypeakcat)-1):\n",
    "    ypdif.append(ypeakcat[i+1][1]-ypeakcat[i][1])"
   ]
  },
  {
   "cell_type": "code",
   "execution_count": 359,
   "metadata": {},
   "outputs": [],
   "source": [
    "ypcFrame = pd.DataFrame(ypeakcat)"
   ]
  },
  {
   "cell_type": "code",
   "execution_count": 361,
   "metadata": {},
   "outputs": [
    {
     "data": {
      "text/html": [
       "<div>\n",
       "<style scoped>\n",
       "    .dataframe tbody tr th:only-of-type {\n",
       "        vertical-align: middle;\n",
       "    }\n",
       "\n",
       "    .dataframe tbody tr th {\n",
       "        vertical-align: top;\n",
       "    }\n",
       "\n",
       "    .dataframe thead th {\n",
       "        text-align: right;\n",
       "    }\n",
       "</style>\n",
       "<table border=\"1\" class=\"dataframe\">\n",
       "  <thead>\n",
       "    <tr style=\"text-align: right;\">\n",
       "      <th></th>\n",
       "      <th>0</th>\n",
       "      <th>1</th>\n",
       "    </tr>\n",
       "  </thead>\n",
       "  <tbody>\n",
       "    <tr>\n",
       "      <th>0</th>\n",
       "      <td>11</td>\n",
       "      <td>0.237234</td>\n",
       "    </tr>\n",
       "    <tr>\n",
       "      <th>1</th>\n",
       "      <td>39</td>\n",
       "      <td>0.432443</td>\n",
       "    </tr>\n",
       "    <tr>\n",
       "      <th>2</th>\n",
       "      <td>40</td>\n",
       "      <td>0.440740</td>\n",
       "    </tr>\n",
       "    <tr>\n",
       "      <th>3</th>\n",
       "      <td>61</td>\n",
       "      <td>0.548760</td>\n",
       "    </tr>\n",
       "    <tr>\n",
       "      <th>4</th>\n",
       "      <td>62</td>\n",
       "      <td>0.550329</td>\n",
       "    </tr>\n",
       "    <tr>\n",
       "      <th>...</th>\n",
       "      <td>...</td>\n",
       "      <td>...</td>\n",
       "    </tr>\n",
       "    <tr>\n",
       "      <th>181</th>\n",
       "      <td>8114</td>\n",
       "      <td>6.364777</td>\n",
       "    </tr>\n",
       "    <tr>\n",
       "      <th>182</th>\n",
       "      <td>8115</td>\n",
       "      <td>6.364782</td>\n",
       "    </tr>\n",
       "    <tr>\n",
       "      <th>183</th>\n",
       "      <td>8116</td>\n",
       "      <td>6.364768</td>\n",
       "    </tr>\n",
       "    <tr>\n",
       "      <th>184</th>\n",
       "      <td>8117</td>\n",
       "      <td>6.364735</td>\n",
       "    </tr>\n",
       "    <tr>\n",
       "      <th>185</th>\n",
       "      <td>8118</td>\n",
       "      <td>6.364682</td>\n",
       "    </tr>\n",
       "  </tbody>\n",
       "</table>\n",
       "<p>186 rows × 2 columns</p>\n",
       "</div>"
      ],
      "text/plain": [
       "        0         1\n",
       "0      11  0.237234\n",
       "1      39  0.432443\n",
       "2      40  0.440740\n",
       "3      61  0.548760\n",
       "4      62  0.550329\n",
       "..    ...       ...\n",
       "181  8114  6.364777\n",
       "182  8115  6.364782\n",
       "183  8116  6.364768\n",
       "184  8117  6.364735\n",
       "185  8118  6.364682\n",
       "\n",
       "[186 rows x 2 columns]"
      ]
     },
     "execution_count": 361,
     "metadata": {},
     "output_type": "execute_result"
    }
   ],
   "source": [
    "ypcFrame"
   ]
  },
  {
   "cell_type": "code",
   "execution_count": null,
   "metadata": {},
   "outputs": [],
   "source": []
  },
  {
   "cell_type": "code",
   "execution_count": null,
   "metadata": {},
   "outputs": [],
   "source": []
  },
  {
   "cell_type": "code",
   "execution_count": 334,
   "metadata": {},
   "outputs": [],
   "source": [
    "def around(y,x, ϵ = 0.001):\n",
    "    if y<x and y>x-ϵ:\n",
    "        return True\n",
    "    if y>x and y<x+ϵ:\n",
    "        return True\n",
    "    return False"
   ]
  },
  {
   "cell_type": "code",
   "execution_count": 364,
   "metadata": {},
   "outputs": [],
   "source": [
    "x = np.linspace(2,10000,100000)\n",
    "y = np.sqrt(x)*np.sin(np.log(x))/14.135\n",
    "z = np.sqrt(x)/14.135"
   ]
  },
  {
   "cell_type": "code",
   "execution_count": 365,
   "metadata": {},
   "outputs": [
    {
     "data": {
      "image/png": "[encoded data removed]",
      "text/plain": [
       "<Figure size 432x288 with 1 Axes>"
      ]
     },
     "metadata": {
      "needs_background": "light"
     },
     "output_type": "display_data"
    }
   ],
   "source": [
    "plt.plot(x,y)\n",
    "plt.plot(x,z)\n",
    "plt.show()"
   ]
  },
  {
   "cell_type": "code",
   "execution_count": 269,
   "metadata": {},
   "outputs": [
    {
     "data": {
      "text/plain": [
       "array([-174568.40421175    +0.j        , -177475.40342481+11773.65390954j,\n",
       "       -186813.30827016+24504.06331208j, ...,\n",
       "       -204787.04641555-39351.6396066j , -186813.30827016-24504.06331208j,\n",
       "       -177475.40342481-11773.65390954j])"
      ]
     },
     "execution_count": 269,
     "metadata": {},
     "output_type": "execute_result"
    }
   ],
   "source": [
    "np.fft.fft([i.real for i in y])"
   ]
  },
  {
   "cell_type": "code",
   "execution_count": 45,
   "metadata": {},
   "outputs": [
    {
     "data": {
      "text/plain": [
       "(-0.34966808399698274-0.9368736473153031j)"
      ]
     },
     "execution_count": 45,
     "metadata": {},
     "output_type": "execute_result"
    }
   ],
   "source": [
    "np.e**(np.pi*2j*np.log(2))"
   ]
  },
  {
   "cell_type": "code",
   "execution_count": 46,
   "metadata": {},
   "outputs": [],
   "source": [
    "def comex(base,s):\n",
    "    return (base**(s.real))*(complex(np.cos(np.log(base)*s.imag),np.sin(np.log(base)*s.imag)))"
   ]
  },
  {
   "cell_type": "code",
   "execution_count": 48,
   "metadata": {},
   "outputs": [
    {
     "data": {
      "text/plain": [
       "(-1+1.2246467991473532e-16j)"
      ]
     },
     "execution_count": 48,
     "metadata": {},
     "output_type": "execute_result"
    }
   ],
   "source": [
    "comex(np.e,np.pi*1j)"
   ]
  },
  {
   "cell_type": "code",
   "execution_count": 270,
   "metadata": {},
   "outputs": [],
   "source": [
    "freq = np.fft.fftfreq(y.shape[-1])"
   ]
  },
  {
   "cell_type": "code",
   "execution_count": 274,
   "metadata": {},
   "outputs": [
    {
     "data": {
      "text/plain": [
       "0.49999000000000005"
      ]
     },
     "execution_count": 274,
     "metadata": {},
     "output_type": "execute_result"
    }
   ],
   "source": [
    "max(freq)"
   ]
  },
  {
   "cell_type": "code",
   "execution_count": 272,
   "metadata": {},
   "outputs": [
    {
     "data": {
      "text/plain": [
       "(100000,)"
      ]
     },
     "execution_count": 272,
     "metadata": {},
     "output_type": "execute_result"
    }
   ],
   "source": [
    "y.shape"
   ]
  },
  {
   "cell_type": "code",
   "execution_count": 273,
   "metadata": {},
   "outputs": [
    {
     "data": {
      "image/png": "[encoded data removed]",
      "text/plain": [
       "<Figure size 432x288 with 1 Axes>"
      ]
     },
     "metadata": {
      "needs_background": "light"
     },
     "output_type": "display_data"
    }
   ],
   "source": [
    "plt.plot(freq,np.fft.fft([i.real for i in y]).real)\n",
    "plt.show()"
   ]
  },
  {
   "cell_type": "code",
   "execution_count": 293,
   "metadata": {},
   "outputs": [],
   "source": [
    "fourierTransform = np.fft.fft(y)/len(y)           # Normalize amplitude\n",
    "\n",
    "fourierTransform = fourierTransform[range(int(len(y)/2))] # Exclude sampling frequency \n",
    "\n",
    "samplingFrequency = len(y)\n",
    "\n",
    "tpCount     = len(y)\n",
    "\n",
    "values      = np.arange(int(tpCount/2))\n",
    "\n",
    "timePeriod  = tpCount/samplingFrequency\n",
    "\n",
    "frequencies = values/timePeriod"
   ]
  },
  {
   "cell_type": "code",
   "execution_count": 294,
   "metadata": {},
   "outputs": [
    {
     "data": {
      "text/plain": [
       "array([0.02400005-4.97023578e-01j, 0.03316384-3.44766338e-01j,\n",
       "       0.03070027-2.63191324e-01j, ..., 0.00034522+6.97374472e-05j,\n",
       "       0.00034519+6.98508332e-05j, 0.00034517+6.99642215e-05j])"
      ]
     },
     "execution_count": 294,
     "metadata": {},
     "output_type": "execute_result"
    }
   ],
   "source": [
    "fourierTransform"
   ]
  },
  {
   "cell_type": "code",
   "execution_count": 295,
   "metadata": {},
   "outputs": [
    {
     "data": {
      "image/png": "[encoded data removed]",
      "text/plain": [
       "<Figure size 432x288 with 1 Axes>"
      ]
     },
     "metadata": {
      "needs_background": "light"
     },
     "output_type": "display_data"
    }
   ],
   "source": [
    "plt.plot(frequencies, abs(fourierTransform))\n",
    "plt.show()"
   ]
  },
  {
   "cell_type": "code",
   "execution_count": null,
   "metadata": {},
   "outputs": [],
   "source": []
  }
 ],
 "metadata": {
  "kernelspec": {
   "display_name": "Python 3",
   "language": "python",
   "name": "python3"
  },
  "language_info": {
   "codemirror_mode": {
    "name": "ipython",
    "version": 3
   },
   "file_extension": ".py",
   "mimetype": "text/x-python",
   "name": "python",
   "nbconvert_exporter": "python",
   "pygments_lexer": "ipython3",
   "version": "3.7.9"
  }
 },
 "nbformat": 4,
 "nbformat_minor": 4
}

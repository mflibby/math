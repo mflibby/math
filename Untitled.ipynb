{
 "cells": [
  {
   "cell_type": "code",
   "execution_count": 1,
   "metadata": {},
   "outputs": [],
   "source": [
    "def arith_grad_series ( O , i , n , forward = True ) -> float:\n",
    "    \"\"\"\n",
    "    TODO (need to think)\n",
    "    INPUT:\n",
    "        O : numerical   - the known variable, either G - the gradient factor if forward == True, else A - the worth of each payment at the time of payment\n",
    "        i : numerical   - the interest rate\n",
    "        n : int         - the number of periods the interest compounds\n",
    "        forward : bool  - the direction of worth to be calculated, defaults to True\n",
    "    RETURN:\n",
    "        Z : numerical - G(  ( 1 / i ) - n / ( ( 1 + i )^n - 1 )  ), the neccessary value of A\n",
    "                        else A/(  ( 1 / i ) - n / ( ( 1 + i )^n - 1 )  ), the gradient value G.\n",
    "    \"\"\"\n",
    "    return O * (  ( 1 / i ) - n / ( ( 1 + i ) ** n - 1 )  ) if forward else O / (  ( 1 / i ) - n / ( ( 1 + i ) ** n - 1 )  )"
   ]
  },
  {
   "cell_type": "code",
   "execution_count": 2,
   "metadata": {},
   "outputs": [
    {
     "data": {
      "text/plain": [
       "140.32526073035547"
      ]
     },
     "execution_count": 2,
     "metadata": {},
     "output_type": "execute_result"
    }
   ],
   "source": [
    "arith_grad_series ( 200 , 0.06168 , 4 , False )"
   ]
  },
  {
   "cell_type": "code",
   "execution_count": null,
   "metadata": {},
   "outputs": [],
   "source": []
  }
 ],
 "metadata": {
  "kernelspec": {
   "display_name": "Python 3",
   "language": "python",
   "name": "python3"
  },
  "language_info": {
   "codemirror_mode": {
    "name": "ipython",
    "version": 3
   },
   "file_extension": ".py",
   "mimetype": "text/x-python",
   "name": "python",
   "nbconvert_exporter": "python",
   "pygments_lexer": "ipython3",
   "version": "3.7.9"
  }
 },
 "nbformat": 4,
 "nbformat_minor": 4
}

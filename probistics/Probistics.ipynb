{
 "cells": [
  {
   "cell_type": "code",
   "execution_count": 39,
   "metadata": {},
   "outputs": [],
   "source": [
    "import numpy as np\n",
    "import matplotlib.pyplot as plt\n",
    "import matplotlib.lines as mlines\n",
    "import matplotlib.patches as ptchs\n",
    "import matplotlib as mpl\n",
    "\n",
    "from integration import *\n",
    "from functions import *\n",
    "\n",
    "mpl.rcParams['axes.labelsize'] = 20\n",
    "mpl.rcParams['axes.titlesize'] = 30\n",
    "mpl.rcParams['text.usetex'] = True\n",
    "mpl.rcParams['text.latex.preamble'] = r\"\\usepackage{amsmath}\"\n",
    "mpl.rcParams['xtick.labelsize'] = 20\n",
    "mpl.rcParams['ytick.labelsize'] = 20"
   ]
  },
  {
   "cell_type": "code",
   "execution_count": 40,
   "metadata": {},
   "outputs": [
    {
     "ename": "SyntaxError",
     "evalue": "unexpected EOF while parsing (<ipython-input-40-8da5f8989f24>, line 26)",
     "output_type": "error",
     "traceback": [
      "\u001b[1;36m  File \u001b[1;32m\"<ipython-input-40-8da5f8989f24>\"\u001b[1;36m, line \u001b[1;32m26\u001b[0m\n\u001b[1;33m    \u001b[0m\n\u001b[1;37m    ^\u001b[0m\n\u001b[1;31mSyntaxError\u001b[0m\u001b[1;31m:\u001b[0m unexpected EOF while parsing\n"
     ]
    }
   ],
   "source": [
    "def fac(x):\n",
    "    if (x == 0):\n",
    "        return 1\n",
    "    return x*fac(x-1)\n",
    "\n",
    "def choose(n,x):\n",
    "    \"\"\"\n",
    "    Returns the number of combinations available to a set of x things chosen from a superset\n",
    "    of n things\n",
    "    \"\"\"\n",
    "    return fac(n)/(fac(x)*fac(n-x))\n",
    "\n",
    "def permute(n,x):\n",
    "    \n",
    "    return fac(n)/fac(n-x)\n",
    "\n",
    "def bi(x,n,p,q):\n",
    "    \"\"\"\n",
    "    Calculates the binomial probability P(x) given number of trials n, \n",
    "    probability of success p, and of failure q\n",
    "    \"\"\"\n",
    "    return choose(n,x)*(p**x)*(q**(n-x))\n",
    "\n",
    "\n",
    "def bycase(funcs: list[function], cases: list[function]):\n",
    "    "
   ]
  },
  {
   "cell_type": "code",
   "execution_count": 41,
   "metadata": {},
   "outputs": [
    {
     "ename": "NameError",
     "evalue": "name 'bi' is not defined",
     "output_type": "error",
     "traceback": [
      "\u001b[1;31m---------------------------------------------------------------------------\u001b[0m",
      "\u001b[1;31mNameError\u001b[0m                                 Traceback (most recent call last)",
      "\u001b[1;32m<ipython-input-41-20e9f31c3a0c>\u001b[0m in \u001b[0;36m<module>\u001b[1;34m\u001b[0m\n\u001b[1;32m----> 1\u001b[1;33m \u001b[1;36m1\u001b[0m\u001b[1;33m-\u001b[0m\u001b[0mbi\u001b[0m\u001b[1;33m(\u001b[0m\u001b[1;36m0\u001b[0m\u001b[1;33m,\u001b[0m\u001b[1;36m15\u001b[0m\u001b[1;33m,\u001b[0m\u001b[1;36m1\u001b[0m\u001b[1;33m/\u001b[0m\u001b[1;36m6\u001b[0m\u001b[1;33m,\u001b[0m\u001b[1;36m5\u001b[0m\u001b[1;33m/\u001b[0m\u001b[1;36m6\u001b[0m\u001b[1;33m)\u001b[0m\u001b[1;33m\u001b[0m\u001b[1;33m\u001b[0m\u001b[0m\n\u001b[0m",
      "\u001b[1;31mNameError\u001b[0m: name 'bi' is not defined"
     ]
    }
   ],
   "source": [
    "1-bi(0,15,1/6,5/6)"
   ]
  },
  {
   "cell_type": "code",
   "execution_count": 42,
   "metadata": {},
   "outputs": [],
   "source": [
    "f = lambda x,k,θ: ((k*θ**k)/x**(k+1)) if x>=θ else 0"
   ]
  },
  {
   "cell_type": "code",
   "execution_count": 43,
   "metadata": {},
   "outputs": [
    {
     "data": {
      "image/png": "[encoded data removed]",
      "text/plain": [
       "<Figure size 720x720 with 1 Axes>"
      ]
     },
     "metadata": {
      "needs_background": "light"
     },
     "output_type": "display_data"
    }
   ],
   "source": [
    "dom = 100\n",
    "x = range(dom)\n",
    "y = [f(x,20,20) for x in x]\n",
    "\n",
    "fig,ax = plt.subplots(1,1, figsize = (10,10))\n",
    "\n",
    "ax.plot([20,20], [-.1,max(y)], '--k')\n",
    "ax.plot([0,20], [max(y),max(y)], '--k')\n",
    "ax.plot(range(100),y, linewidth = 3, alpha = 0.5)\n",
    "ax.annotate(r\"$f(x=\\theta; k, \\theta) = \\frac{k}{\\theta}$\", \n",
    "            xy = (20,max(y)),textcoords = 'offset points',  xytext = (60,60),  \n",
    "            arrowprops = dict(facecolor = 'black', shrink=0.1) ,fontsize = 30)\n",
    "\n",
    "\n",
    "\n",
    "ax.axes.get_xaxis().set_ticks(list(range(0,dom+20,20)))\n",
    "ax.axes.get_yaxis().set_ticks([0,max(y)])\n",
    "ax.axes.get_xaxis().set_ticklabels([\"0\",r\"$\\theta$\",r\"$2\\theta$\",r\"$3\\theta$\",r\"$4\\theta$\",r\"$5\\theta$\"])\n",
    "ax.axes.get_yaxis().set_ticklabels([\"0\",r\"max(f)\"])\n",
    "ax.set_xlabel(r\"$x$\")\n",
    "ax.set_ylabel(r\"$f$\", rotation = 0)\n",
    "ax.set_title(r'$\\displaystyle f(x;k, \\theta) =' r'\\begin{cases}\\frac{k\\cdot \\theta^k}{x^{k+1}} & x\\ge \\theta\\\\ 0 & x<\\theta \\end{cases}$')\n",
    "plt.xlim([0,100])\n",
    "plt.ylim([-.1,max(y)+.5])\n",
    "plt.show()"
   ]
  },
  {
   "cell_type": "code",
   "execution_count": 44,
   "metadata": {},
   "outputs": [],
   "source": [
    "a = lambda x,y :1\n",
    "b = lambda x :2"
   ]
  },
  {
   "cell_type": "code",
   "execution_count": 45,
   "metadata": {},
   "outputs": [
    {
     "data": {
      "text/plain": [
       "[<function __main__.<lambda>(x, y)>, <function __main__.<lambda>(x)>]"
      ]
     },
     "execution_count": 45,
     "metadata": {},
     "output_type": "execute_result"
    }
   ],
   "source": [
    "[a,b]"
   ]
  },
  {
   "cell_type": "code",
   "execution_count": 46,
   "metadata": {},
   "outputs": [
    {
     "data": {
      "text/plain": [
       "numpy.ndarray"
      ]
     },
     "execution_count": 46,
     "metadata": {},
     "output_type": "execute_result"
    }
   ],
   "source": [
    "type(np.linspace(0,10))"
   ]
  },
  {
   "cell_type": "code",
   "execution_count": 47,
   "metadata": {},
   "outputs": [
    {
     "data": {
      "text/plain": [
       "[0, 10, 20, 30, 40, 50, 60, 70, 80, 90]"
      ]
     },
     "execution_count": 47,
     "metadata": {},
     "output_type": "execute_result"
    }
   ],
   "source": [
    "list(range(0,100,10))"
   ]
  },
  {
   "cell_type": "code",
   "execution_count": 48,
   "metadata": {},
   "outputs": [
    {
     "data": {
      "text/plain": [
       "1.0"
      ]
     },
     "execution_count": 48,
     "metadata": {},
     "output_type": "execute_result"
    }
   ],
   "source": [
    "max(y)"
   ]
  },
  {
   "cell_type": "code",
   "execution_count": 49,
   "metadata": {},
   "outputs": [],
   "source": [
    "\n",
    "#constructing a normal from this data looks like something that could be useful in the future, so ill build a class for it:\n",
    "class Discrete_Norm:\n",
    "    \n",
    "    \n",
    "    \n",
    "    \n",
    "    def __init__(self,data, zscores = None):\n",
    "        self.data = data\n",
    "        self.zscores = zscores\n",
    "        self.mean = None\n",
    "        self.std = None\n",
    "        self.func = None\n",
    "        self.e = 2.718281828459045235360287471352\n",
    "        self.ecc = self._construct()\n",
    "        \n",
    "        \n",
    "        \n",
    "    def _construct(self):\n",
    "        \n",
    "        mean_index = None\n",
    "        comp = 0\n",
    "        if self.zscores != None:\n",
    "            for i in enumerate(self.zscores):\n",
    "                if i[1] == 0. or i[1] == 0:\n",
    "                    mean_index = i[0]\n",
    "                    self.mean = self.data[mean_index]\n",
    "                    self.std = sigfo(self.data[0], self.mean, self.zscores[0])\n",
    "                    comp +=1\n",
    "                    break\n",
    "                    \n",
    "        #could not determine mean and std from zscores, determine otherwise. (TODO)\n",
    "        if (comp == 0):\n",
    "            pass\n",
    "        \n",
    "        #mean and std are defined\n",
    "        if (comp == 1):\n",
    "            self.func =  lambda x : ( 1 / ( np.sqrt(2*np.pi)*self.std ) ) * self.e**( - ( (x - self.mean)**2 ) / (2*self.std**2) ) \n",
    "            comp +=1\n",
    "            \n",
    "        if (comp == 2):\n",
    "            return self._determine_ecc()\n",
    "        \n",
    "        #if we reach this point, construction failed somewhere, print the point it failed at\n",
    "        print(f\"Construction of discrete normal distribution failed, exit code {comp}\") \n",
    "        return None\n",
    "    \n",
    "    def _determine_ecc(self):\n",
    "        \n",
    "        if self.zscores is not None:\n",
    "            return sum([self.zscores[i] - self.zscore(self.data[i]) for i in range(len(self.data))])/len(self.data)\n",
    "    \n",
    "    def zscore(self, dpoint):\n",
    "        \n",
    "        return (dpoint - self.mean)/self.std\n",
    "    "
   ]
  },
  {
   "cell_type": "code",
   "execution_count": 312,
   "metadata": {},
   "outputs": [],
   "source": [
    "class Distribution:\n",
    "    \n",
    "    def __init__(self):\n",
    "        self.e = 2.718281828459045235360287471352\n",
    "    \n",
    "class Discrete_Distribution(Distribution):\n",
    "    pass\n",
    "    \n",
    "    \n",
    "class Continuous_Distribution(Distribution,Distribution_Plot):\n",
    "    pass\n",
    "\n",
    "##############################################\n",
    "\n",
    "class Weibull_Distribution(Continuous_Distribution):\n",
    "    \n",
    "    def __init__(self, alpha, beta):\n",
    "        self.alpha = alpha\n",
    "        self.beta = beta\n",
    "        \n",
    "        self.pdf = lambda x : (alpha/(beta**alpha))*(x**(alpha-1))*self.e**(-(x/beta)**alpha)\n",
    "        self.cdf = lambda x : 1-self.e**(-(x/beta)**alpha)\n",
    "        \n",
    "    def p(self,X, left = True):\n",
    "        if (type(X) is not list):\n",
    "            return self.cdf(X) if left else 1-self.cdf(X)\n",
    "        return self.cdf(X[1])-self.cdf(X[0])\n",
    "    \n",
    "    def point_perc(self,percent):\n",
    "        return self.beta*(-np.log(1-percent))**(1/self.alpha)\n",
    "    \n",
    "    \n",
    "class Gamma_Distribution(Continuous_Distribution):\n",
    "    \n",
    "    def __init__(self,alpha,beta=1):\n",
    "        self.alpha = alpha\n",
    "        self.beta = beta\n",
    "        self.e = 2.718281828459045235360287471352\n",
    "        self.pdf = lambda x : (1/( (beta**alpha) * gamma(alpha) ))*x**(alpha-1)*self.e**(-x/beta)\n",
    "        self.cdf = lambda x, n : integrate(self.pdf,[0,n])\n",
    "\n",
    "class ChiSquared_Distribution(Continuous_Distribution):\n",
    "    pass\n",
    "\n",
    "class Lognormal_Distribution(Continuous_Distribution):\n",
    "    pass\n",
    "\n",
    "class Beta_Distribution(Continuous_Distribution):\n",
    "    pass\n",
    "\n",
    "class Exponential_Distribution(Continuous_Distribution):\n",
    "    \n",
    "    def __init__(self,lam):\n",
    "        self.lam = lam\n",
    "        self.pdf = lambda x : self.lam*e**(-self.lam*x)\n",
    "        self.cdf = lambda x : 1 - e**(-self.lam*x)\n",
    "        self.mean = 1/lam\n",
    "        self.std = self.mean\n",
    "        self.labels = dict(pdf = r\"$f(x;\\lambda)=\\lambda e^{-\\lambda x}$\", cdf = r\"$F(x;\\lambda)=1 - e^{-\\lambda x}$\", params = [r\"$\\lambda =$ \" + f\"{self.lam}\"], domain = [r\"$\\forall x \\ge 0$\"])\n",
    "\n",
    "class Normal_Distribution(Continuous_Distribution):\n",
    "    pass\n",
    "\n",
    "class Uniform_Distribution(Continuous_Distribution):\n",
    "    pass\n",
    "\n",
    "###################################\n",
    "\n",
    "class Poisson_Distribution(Discrete_Distribution):\n",
    "    pass\n",
    "\n",
    "class Binomial_Distribution(Discrete_Distribution):\n",
    "    pass\n"
   ]
  },
  {
   "cell_type": "code",
   "execution_count": 215,
   "metadata": {},
   "outputs": [
    {
     "data": {
      "text/plain": [
       "0.3678610478127795"
      ]
     },
     "execution_count": 215,
     "metadata": {},
     "output_type": "execute_result"
    }
   ],
   "source": [
    "Gamma_Distribution(1,1).pdf(1)"
   ]
  },
  {
   "cell_type": "code",
   "execution_count": 227,
   "metadata": {},
   "outputs": [],
   "source": [
    "class Distribution_Plot:\n",
    "    \n",
    "    @staticmethod\n",
    "    def _plot_loc_lines(start = (0,0), loc = (1,1), style = '--k', axis_base = plt):\n",
    "        return [axis_base.plot((start[0],loc[0]), (loc[1],loc[1]), style), axis_base.plot((loc[0],loc[0]), (start[1],loc[1]), style)]\n",
    "    \n",
    "    def plot(self, x = np.linspace(0,100,10000), plot_pdf = True, plot_cdf = False, plot_mean = False, mean_acc = 2 ,plot_median = False, plot_loclines = True, annotate_aux = False):\n",
    "        #TODO: determine where to import matplotlib libraries\n",
    "        #\n",
    "        \n",
    "        f = self.pdf(x)\n",
    "        fig,ax = plt.subplots(1,1, figsize = (14,14))\n",
    "        ax.grid()\n",
    "        ax.scatter(x,f, s=0.1, color = 'blue', label = self.labels['pdf'])\n",
    "        \n",
    "        if (plot_mean):\n",
    "            ax.scatter(self.mean,self.pdf(self.mean), s=60, color = 'orange', label = r\"$f(\\mu_x) =$ \" + f\"{round(self.pdf(self.mean),int(-np.log10(self.pdf(self.mean)))+mean_acc)}\")\n",
    "            if (plot_loclines):\n",
    "                self._plot_loc_lines(loc = [self.mean, self.pdf(self.mean)], axis_base = ax)\n",
    "        #ax.annotate(r\"$f(\\mu_x) = \\cos\\left(\\frac{\\pi - 2}{2}\\right) = \\sin(1) \\approx .84 $\", \n",
    "        #            xy = (μx,np.cos(μx)), textcoords = 'offset points',  xytext = (40,40),  \n",
    "        #           arrowprops = dict(facecolor = 'black', shrink=0.1) ,fontsize = 30)\n",
    "\n",
    "        #\n",
    "\n",
    "        #ax.scatter(x[index], f[index]) #this provides the same graphical output as below, but we will use the below because it is technically more accurate.\n",
    "        #ax.scatter(μm,np.cos(μm), s=60, color = 'black', label = r\"$f(\\widetilde{\\mu})$\")\n",
    "\n",
    "        #ax.annotate(r\"$f(\\widetilde{\\mu}) = \\cos\\left(\\frac{\\pi}{6}\\right) = \\frac{\\sqrt{3}}{2} $\", \n",
    "        #            xy = (μm,np.cos(μm)), textcoords = 'offset points',  xytext = (60,80),  \n",
    "        #            arrowprops = dict(facecolor = 'black', shrink=0.1) ,fontsize = 30)\n",
    "\n",
    "        #plot_loc_lines(loc = (μm,np.cos(μm)),axis_base = ax)\n",
    "        #ax.axes.get_xaxis().set_ticks(list(range(0,dom+20,20)))\n",
    "        #ax.axes.get_yaxis().set_ticks([0,max(y)])\n",
    "        #ax.axes.get_xaxis().set_ticklabels([\"0\",r\"$\\theta$\",\"\",\"\",\"\",\"\"])\n",
    "        #ax.axes.get_yaxis().set_ticklabels([\"0\",r\"max(f)\"])\n",
    "        ax.set_xlabel(r\"$x$\", labelpad = 20)\n",
    "        ax.set_ylabel(r\"$f(x)$\", rotation = 0, labelpad = 60)\n",
    "        ax.set_title(self.labels['pdf'] + \", \" + \", \".join(self.labels['domain']) + \", \"  + \",\".join(self.labels['params']))\n",
    "\n",
    "        # legend handling, make changes  to labels or handles here\n",
    "        handles, labels = ax.get_legend_handles_labels()\n",
    "        #handles[0] = ptchs.Circle((0,0)) #this doesn't actually give a circle, as mpl recognizes only that the input is a patch, and then uses a rectangular patch instead of using what was input. Someone should look into this, it shouldn't be this way...\n",
    "        handles[0] = mlines.Line2D([], [], color = 'white', marker='o', markerfacecolor='blue') #scatter point for the distribution plot is too small, change it to a line \n",
    "        leg = ax.legend(handles, labels, fontsize = 'xx-large')\n",
    "\n",
    "        #leg.legendHandles[0] = mlines.Line2D([], [], color='blue') #I thought we would be able to change the legend handles after creating the legend, but this line alone didn't do the trick, perhaps we need to update the ax legend object after this? I'll explore more later\n",
    "        plt.xlim([x[0], x[-1]+.1])\n",
    "        plt.ylim([0, max(f)])\n",
    "        #plt.savefig(\"P1_sketch.png\")\n",
    "        plt.show()\n",
    "        \n",
    "        return fig,ax\n",
    "    \n",
    "    "
   ]
  },
  {
   "cell_type": "code",
   "execution_count": 231,
   "metadata": {},
   "outputs": [],
   "source": [
    "plot_test = Exponential_Distribution(.01)"
   ]
  },
  {
   "cell_type": "code",
   "execution_count": 233,
   "metadata": {},
   "outputs": [
    {
     "data": {
      "image/png": "[encoded data removed]",
      "text/plain": [
       "<Figure size 1008x1008 with 1 Axes>"
      ]
     },
     "metadata": {
      "needs_background": "light"
     },
     "output_type": "display_data"
    },
    {
     "data": {
      "text/plain": [
       "(<Figure size 1008x1008 with 1 Axes>,\n",
       " <AxesSubplot:title={'center':'$f(x;\\\\lambda)=\\\\lambda e^{-\\\\lambda x}$, $\\\\forall x \\\\ge 0$, $\\\\lambda =$ 0.01'}, xlabel='$x$', ylabel='$f(x)$'>)"
      ]
     },
     "execution_count": 233,
     "metadata": {},
     "output_type": "execute_result"
    }
   ],
   "source": [
    "plot_test.plot(x = np.linspace(0,1000,100000), plot_mean = True, mean_acc=3)"
   ]
  },
  {
   "cell_type": "code",
   "execution_count": 316,
   "metadata": {},
   "outputs": [],
   "source": [
    "from typing import NewType, Pattern\n",
    "Date = NewType('Date', str)  #re.match(re.compile('(1[0-2]|[0-9]|0[1-9])/([0-2][0-9]|3[0-1]|[1-9])/([1-3][0-9][0-9][0-9])'), \"10/1/3999\")"
   ]
  },
  {
   "cell_type": "code",
   "execution_count": 310,
   "metadata": {},
   "outputs": [
    {
     "data": {
      "text/plain": [
       "str"
      ]
     },
     "execution_count": 310,
     "metadata": {},
     "output_type": "execute_result"
    }
   ],
   "source": [
    "type(Date('4/16/2021'))"
   ]
  },
  {
   "cell_type": "code",
   "execution_count": 317,
   "metadata": {},
   "outputs": [
    {
     "data": {
      "text/plain": [
       "<__main__.Exponential_Distribution at 0x1d6e5123b08>"
      ]
     },
     "execution_count": 317,
     "metadata": {},
     "output_type": "execute_result"
    }
   ],
   "source": [
    "Date(Exponential_Distribution(1))"
   ]
  },
  {
   "cell_type": "code",
   "execution_count": 292,
   "metadata": {},
   "outputs": [],
   "source": [
    "test = NewType('intt', int)"
   ]
  },
  {
   "cell_type": "code",
   "execution_count": 294,
   "metadata": {},
   "outputs": [
    {
     "data": {
      "text/plain": [
       "'a'"
      ]
     },
     "execution_count": 294,
     "metadata": {},
     "output_type": "execute_result"
    }
   ],
   "source": [
    "test(\"a\")"
   ]
  },
  {
   "cell_type": "code",
   "execution_count": 246,
   "metadata": {},
   "outputs": [
    {
     "data": {
      "text/plain": [
       "{'_inst': True,\n",
       " '_special': True,\n",
       " '_name': 'Pattern',\n",
       " '__origin__': re.Pattern,\n",
       " '__args__': (~AnyStr,),\n",
       " '__parameters__': (~AnyStr,),\n",
       " '__slots__': None}"
      ]
     },
     "execution_count": 246,
     "metadata": {},
     "output_type": "execute_result"
    }
   ],
   "source": [
    "vars(Pattern)"
   ]
  },
  {
   "cell_type": "code",
   "execution_count": 247,
   "metadata": {},
   "outputs": [],
   "source": [
    "import re"
   ]
  },
  {
   "cell_type": "code",
   "execution_count": 301,
   "metadata": {},
   "outputs": [
    {
     "ename": "TypeError",
     "evalue": "match() missing 1 required positional argument: 'string'",
     "output_type": "error",
     "traceback": [
      "\u001b[1;31m---------------------------------------------------------------------------\u001b[0m",
      "\u001b[1;31mTypeError\u001b[0m                                 Traceback (most recent call last)",
      "\u001b[1;32m<ipython-input-301-be0a691074e4>\u001b[0m in \u001b[0;36m<module>\u001b[1;34m\u001b[0m\n\u001b[1;32m----> 1\u001b[1;33m \u001b[0ma\u001b[0m \u001b[1;33m=\u001b[0m \u001b[0mre\u001b[0m\u001b[1;33m.\u001b[0m\u001b[0mmatch\u001b[0m\u001b[1;33m(\u001b[0m\u001b[0mre\u001b[0m\u001b[1;33m.\u001b[0m\u001b[0mcompile\u001b[0m\u001b[1;33m(\u001b[0m\u001b[1;34m'[1-12]/[1-31]/[1900-3000]'\u001b[0m\u001b[1;33m)\u001b[0m\u001b[1;33m)\u001b[0m\u001b[1;33m\u001b[0m\u001b[1;33m\u001b[0m\u001b[0m\n\u001b[0m",
      "\u001b[1;31mTypeError\u001b[0m: match() missing 1 required positional argument: 'string'"
     ]
    }
   ],
   "source": [
    "a = re.match(re.compile('[1-12]/[1-31]/[1900-3000]'), '4/16/2021')"
   ]
  },
  {
   "cell_type": "code",
   "execution_count": 305,
   "metadata": {},
   "outputs": [
    {
     "data": {
      "text/plain": [
       "['__args__',\n",
       " '__call__',\n",
       " '__class__',\n",
       " '__delattr__',\n",
       " '__dict__',\n",
       " '__dir__',\n",
       " '__doc__',\n",
       " '__eq__',\n",
       " '__format__',\n",
       " '__ge__',\n",
       " '__getattr__',\n",
       " '__getattribute__',\n",
       " '__getitem__',\n",
       " '__gt__',\n",
       " '__hash__',\n",
       " '__init__',\n",
       " '__init_subclass__',\n",
       " '__instancecheck__',\n",
       " '__le__',\n",
       " '__lt__',\n",
       " '__module__',\n",
       " '__mro_entries__',\n",
       " '__ne__',\n",
       " '__new__',\n",
       " '__origin__',\n",
       " '__parameters__',\n",
       " '__reduce__',\n",
       " '__reduce_ex__',\n",
       " '__repr__',\n",
       " '__setattr__',\n",
       " '__sizeof__',\n",
       " '__slots__',\n",
       " '__str__',\n",
       " '__subclasscheck__',\n",
       " '__subclasshook__',\n",
       " '__weakref__',\n",
       " '_inst',\n",
       " '_name',\n",
       " '_special',\n",
       " 'copy_with']"
      ]
     },
     "execution_count": 305,
     "metadata": {},
     "output_type": "execute_result"
    }
   ],
   "source": [
    "dir(Pattern)"
   ]
  },
  {
   "cell_type": "code",
   "execution_count": 287,
   "metadata": {},
   "outputs": [
    {
     "data": {
      "text/plain": [
       "'10/1/3999'"
      ]
     },
     "execution_count": 287,
     "metadata": {},
     "output_type": "execute_result"
    }
   ],
   "source": [
    "re.match(re.compile('(1[0-2]|[0-9]|0[1-9])/([0-2][0-9]|3[0-1]|[1-9])/([1-3][0-9][0-9][0-9])'), \"10/1/3999\").group(0)"
   ]
  },
  {
   "cell_type": "code",
   "execution_count": 300,
   "metadata": {},
   "outputs": [
    {
     "data": {
      "text/plain": [
       "{}"
      ]
     },
     "execution_count": 300,
     "metadata": {},
     "output_type": "execute_result"
    }
   ],
   "source": [
    "vars(re.match)"
   ]
  },
  {
   "cell_type": "code",
   "execution_count": 318,
   "metadata": {},
   "outputs": [],
   "source": [
    "import pandas as pd"
   ]
  },
  {
   "cell_type": "code",
   "execution_count": null,
   "metadata": {},
   "outputs": [],
   "source": [
    "a = pd.DataFrame()"
   ]
  }
 ],
 "metadata": {
  "kernelspec": {
   "display_name": "Python 3",
   "language": "python",
   "name": "python3"
  },
  "language_info": {
   "codemirror_mode": {
    "name": "ipython",
    "version": 3
   },
   "file_extension": ".py",
   "mimetype": "text/x-python",
   "name": "python",
   "nbconvert_exporter": "python",
   "pygments_lexer": "ipython3",
   "version": "3.7.9"
  }
 },
 "nbformat": 4,
 "nbformat_minor": 4
}
